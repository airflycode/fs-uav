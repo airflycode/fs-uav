{
 "cells": [
  {
   "cell_type": "code",
   "execution_count": 8,
   "metadata": {},
   "outputs": [],
   "source": [
    "import os\n",
    "import numpy as np\n",
    "import cv2 \n"
   ]
  },
  {
   "attachments": {},
   "cell_type": "markdown",
   "metadata": {},
   "source": [
    "调用dirp_set_measurement_params函数，可以对测温参数进行配置，配置完成后需要再次运行dirp_measure或dirp_measure_ex才可已得到修改参数后的测温结果。\n",
    "测温参数包含以下4个类型：\n",
    "\n",
    "distance，测温距离：\n",
    "单位：米\n",
    "范围：1~25，超过25时填写25即可（超过25米时测温精度会有所下降）\n",
    "说明：待测目标的距离。红外热像仪接收物体自身辐射的红外线生成热像图，距离越远，红外辐射衰减越多。红外热像仪出厂时默认的标定距离一般是固定的，在这个距离测温最精确，距离过近或过远都会增大测温误差。\n",
    "\n",
    "humidity，湿度：\n",
    "单位：%\n",
    "范围：20~100\n",
    "说明：目标测量环境下的空气相对湿度。请根据实际测量环境配置，默湿度值配置是否准确将影响测温精度，但影响度较小。\n",
    "\n",
    "emissivity，发射率：\n",
    "单位：0.01\n",
    "范围：0.10~1.00\n",
    "说明：被测物体表面以辐射的形式释放能量相对强弱的能力。可参考“常见物质发射率表”进行配置，由于被测物体表面可能存在腐蚀、氧化等情况，实际发射率值与参考值可能存在一定差异。发射率配置是否准确将影响测温精度，且影响度较大。\n",
    "\n",
    "reflection，反射温度：\n",
    "单位：℃\n",
    "范围：-40.0~500.0\n",
    "说明：周围环境物体辐射的能量可能被待测目标表面反射，与待测目标辐射一同被相机接收，造成测温误差。如果周围环境没有特别的高温或低温物体，反射温度配置为环境温度即可。反射温度是否配置准确会影响测温精度，数值与环境温度偏差越大影响度越大。\n"
   ]
  },
  {
   "cell_type": "code",
   "execution_count": 6,
   "metadata": {},
   "outputs": [],
   "source": [
    "\n",
    "# class \n",
    "##tsdk.exe的储存位置\n",
    "tsdk = r'./DJI_TSDK_linux/utility/bin/linux/release_x64/dji_irp'\n",
    "##拍摄的rJPG的储存位置\n",
    "imgPath='../unTreatedImg/'\n",
    "##处理结果的储存位置\n",
    "savepath = \"../unTreatedImg/\"\n",
    "imgRLocalName =\"DJI_0001_R.JPG\"\n",
    "\n",
    "os.makedirs(savepath,exist_ok=True)\n",
    "\n",
    "##参数根据实际情况设置\n",
    "distance=25.0\n",
    "emissivity=0.95\n",
    "humidity=45\n",
    "reflection=51.8 \n",
    "\n",
    "\n",
    "def use_tsdk(tsdk, imgPath, savepath,imgRLocalName):\n",
    "    print('start')\n",
    "    imgRpath = os.path.join(imgPath,imgRLocalName)\n",
    "    imgCoreName = imgRLocalName[:-4]\n",
    "    \n",
    "    ##选择的模式是measure输出的结果是温度信息，不是原始信息；\n",
    "    param = '-s '+ imgRpath + ' -a measure -o ' + savepath + imgCoreName + '.raw' + ' --distance ' + str(distance) + ' --emissivity '+ str(emissivity) +' --humidity '+ str(humidity) + '--reflection ' + str(reflection)\n",
    "    r_v = os.system(tsdk+' '+param)\n",
    "    print (r_v)##输出的为tsdk.exe运行的返回值\n",
    "\n",
    "# use_tsdk(tsdk, imgPath, savepath, imgRLocalName)\n"
   ]
  },
  {
   "cell_type": "code",
   "execution_count": 7,
   "metadata": {},
   "outputs": [],
   "source": [
    "class TSDK_TemProcess():\n",
    "    \"\"\"\n",
    "    使用时初始化一个TSDK类\n",
    "    \"\"\"\n",
    "    def __init__(self,imgRpath,imgCoreName,tsdkpath=\"./DJI_TSDK_linux/utility/bin/linux/release_x64/dji_irp\",savePath=\"../unTreatedImg/\",imgPath=\"../unTreatedImg/\"):\n",
    "        print(\"the file TSDK extracting is: \"+imgRpath,os.path.isfile(imgRpath))\n",
    "        self.tsdkGenRaw(tsdkpath,imgRpath,savepath)\n",
    "        self.thermal_np = self.readRawTem(imgRpath[:-4]+\".raw\",'uint16')\n",
    "        # print(self.thermal_np.shape)\n",
    "                \n",
    "        distance=25.0\n",
    "        emissivity=0.95\n",
    "        humidity=45\n",
    "        reflection=51.8 \n",
    "        \n",
    "    \n",
    "    def tsdkGenRaw(tsdk, imgRpath, savepath,imgCoreName):\n",
    "        print('--------tsdk start--------')\n",
    "        ##选择的模式是measure输出的结果是温度信息，不是原始信息；\n",
    "        param = '-s '+ imgRpath + ' -a measure -o ' + savepath + imgCoreName + '.raw' + ' --distance ' + str(distance) + ' --emissivity '+ str(emissivity) +' --humidity '+ str(humidity) + '--reflection ' + str(reflection)\n",
    "        r_v = os.system(tsdk+' '+param)\n",
    "        print (r_v+'\\n---------tsdk end---------')##输出的为tsdk.exe运行的返回值\n",
    "        \n",
    "    # 利用numpy的fromfile函数读取raw文件，并指定数据格式\n",
    "    def readRawTem(path,dtype):\n",
    "        rows=512#图像的行数\n",
    "        cols=640#图像的列数\n",
    "        channels =1# 图像的通道数，灰度图为1\n",
    "        img=np.fromfile(path, dtype)\n",
    "        img = img.reshape(rows, cols, channels)/10\n",
    "        return img\n",
    "\n",
    "    def ShowRawImgR(path,dtype):\n",
    "        rows=512#图像的行数\n",
    "        cols=640#图像的列数\n",
    "        channels =1# 图像的通道数，灰度图为1\n",
    "        \n",
    "        img=np.fromfile(path, dtype)\n",
    "        img = img.reshape(rows, cols, channels)\n",
    "        # 利用numpy中array的reshape函数将读取到的数据进行重新排列。\n",
    "        imgToShow=img.astype(\"uint8\")\n",
    "        # 展示图像\n",
    "        cv2.namedWindow('Infared image-640*512-8bit')\n",
    "        cv2.imshow('Infared image-640*512-8bit',imgToShow)\n",
    "        # # 如果是uint16的数据请先转成uint8。不然的话，显示会出现问题。\n",
    "        cv2.waitKey()\n",
    "        cv2.destroyAllWindows()\n",
    "        \n",
    "        \n",
    "    def get_templist(self,points):\n",
    "        if not points:\n",
    "            return 0\n",
    "        tem = 0\n",
    "        temList = []\n",
    "        for p in points:\n",
    "            tem = self.thermal_np[p[0],p[1]]\n",
    "            temList.append(tem)\n",
    "        return temList\n",
    "\n",
    "    # 转换到温度图下的坐标    \n",
    "    def get_tempsolo(self,point,svrFlag = 1):\n",
    "        tem = self.thermal_np[point[0],point[1]]\n",
    "        return tem\n",
    "\n",
    "    def get_tempsolo_kernal(self,point):\n",
    "        point = self.transPt(point)\n",
    "        tem = self.kernalTemp(point)\n",
    "        return tem\n",
    "    \n",
    "    def kernalTemp(self,point,width=3):\n",
    "        #获取一块像素面积内的温度 卷积处理值（锐化）\n",
    "        # kernal=np.array([[1,1,1],[1,2,1],[1,1,1]])\n",
    "        kernal=np.array([1,1,1,1,2,1,1,1,1])\n",
    "        cnt = 0\n",
    "        sum = 0\n",
    "        for y in range(point[1]-width,point[1]+width+1): #高\n",
    "            if y<0 or y>=256:\n",
    "                continue\n",
    "            for x in range(point[0]-width,point[0]+width+1):#宽\n",
    "                if x<0 or x>=320:\n",
    "                    continue\n",
    "                temp = self.thermal_np[y][x] * kernal[cnt]\n",
    "                sum+=temp\n",
    "                cnt+=1\n",
    "        if cnt==0:\n",
    "            return 0\n",
    "        return sum/cnt # 均值"
   ]
  },
  {
   "cell_type": "code",
   "execution_count": 24,
   "metadata": {},
   "outputs": [],
   "source": []
  },
  {
   "cell_type": "code",
   "execution_count": 25,
   "metadata": {},
   "outputs": [
    {
     "name": "stdout",
     "output_type": "stream",
     "text": [
      "[[[19.2]\n",
      "  [18.9]\n",
      "  [19.1]\n",
      "  ...\n",
      "  [18.9]\n",
      "  [19. ]\n",
      "  [19.3]]\n",
      "\n",
      " [[19.3]\n",
      "  [18.8]\n",
      "  [18.8]\n",
      "  ...\n",
      "  [19.2]\n",
      "  [19.2]\n",
      "  [19.1]]\n",
      "\n",
      " [[19.2]\n",
      "  [18.9]\n",
      "  [17.9]\n",
      "  ...\n",
      "  [19.3]\n",
      "  [19.3]\n",
      "  [19.4]]\n",
      "\n",
      " ...\n",
      "\n",
      " [[25.7]\n",
      "  [25.4]\n",
      "  [25.4]\n",
      "  ...\n",
      "  [19.6]\n",
      "  [20. ]\n",
      "  [20.2]]\n",
      "\n",
      " [[25.9]\n",
      "  [25.3]\n",
      "  [24.7]\n",
      "  ...\n",
      "  [19.7]\n",
      "  [20. ]\n",
      "  [19.9]]\n",
      "\n",
      " [[25.1]\n",
      "  [24.7]\n",
      "  [23.9]\n",
      "  ...\n",
      "  [20.2]\n",
      "  [20.5]\n",
      "  [20.5]]]\n"
     ]
    }
   ],
   "source": [
    "def readRawTem(path,dtype):\n",
    "    rows=512#图像的行数\n",
    "    cols=640#图像的列数\n",
    "    channels =1# 图像的通道数，灰度图为1\n",
    "    img=np.fromfile(path, dtype)\n",
    "    img = img.reshape(rows, cols, channels)/10\n",
    "    return img\n",
    "\n",
    "\n",
    "imgPath='../../uav/unTreatedImg/'\n",
    "m1R = cv2.imread(imgPath+\"DJI_0001_R.JPG\")\n",
    "# m1Raw = readRaw(imgPath+\"DJI_0001_R_1.JPG\",\"uint16\")\n",
    "m1Raw = readRawTem(imgPath+\"DJI_0001_R_2.raw\",\"uint16\")\n",
    "# cv2.imshow(\"m1R\",m1R)\n",
    "# cv2.imshow(\"m1Raw\",m1Raw)\n",
    "# print(m1Raw)\n"
   ]
  },
  {
   "cell_type": "code",
   "execution_count": 8,
   "metadata": {},
   "outputs": [
    {
     "name": "stdout",
     "output_type": "stream",
     "text": [
      "{'Exif.Image.ImageDescription': 'default', 'Exif.Image.Make': 'DJI', 'Exif.Image.Model': 'ZH20T', 'Exif.Image.Orientation': '1', 'Exif.Image.XResolution': '72/1', 'Exif.Image.YResolution': '72/1', 'Exif.Image.ResolutionUnit': '2', 'Exif.Image.Software': '04.01.03.00', 'Exif.Image.DateTime': '2022:12:20 15:31:43', 'Exif.Image.YCbCrPositioning': '1', 'Exif.Image.ExifTag': '260', 'Exif.Photo.FNumber': '100/100', 'Exif.Photo.ExifVersion': '48 50 51 48', 'Exif.Photo.DateTimeOriginal': '2022:12:20 15:31:43', 'Exif.Photo.DateTimeDigitized': '2022:12:20 15:31:43', 'Exif.Photo.ComponentsConfiguration': '1 2 3 0', 'Exif.Photo.ApertureValue': '0/100', 'Exif.Photo.MaxApertureValue': '0/100', 'Exif.Photo.Flash': '0', 'Exif.Photo.FocalLength': '13500/1000', 'Exif.Photo.MakerNote': '91 115 101 110 115 111 114 95 105 100 58 49 87 57 68 75 52 77 48 48 49 50 49 86 50 0 0 0 0 0 0 0 0 0 0 0 0 0 0 0 0 0 0 93', 'Exif.Photo.FlashpixVersion': '48 49 48 48', 'Exif.Photo.ColorSpace': '1', 'Exif.Photo.PixelXDimension': '640', 'Exif.Photo.PixelYDimension': '512', 'Exif.Photo.InteroperabilityTag': '680', 'Exif.Iop.InteroperabilityIndex': 'R98', 'Exif.Iop.InteroperabilityVersion': '48 49 48 48', 'Exif.Photo.FileSource': '3', 'Exif.Photo.SceneType': '1', 'Exif.Photo.DigitalZoomRatio': '100/100', 'Exif.Photo.FocalLengthIn35mmFilm': '58', 'Exif.Photo.Contrast': '0', 'Exif.Photo.Saturation': '0', 'Exif.Photo.Sharpness': '0', 'Exif.Photo.DeviceSettingDescription': '0 0 0 0', 'Exif.Photo.BodySerialNumber': '1W9DK4M00121V2', 'Exif.Photo.LensSpecification': '13500/1000 13500/1000 100/100 100/100', 'Exif.Image.GPSTag': '566', 'Exif.GPSInfo.GPSVersionID': '2 3 0 0', 'Exif.GPSInfo.GPSLatitudeRef': 'N', 'Exif.GPSInfo.GPSLatitude': '30/1 46/1 43438/10000', 'Exif.GPSInfo.GPSLongitudeRef': 'E', 'Exif.GPSInfo.GPSLongitude': '120/1 14/1 291169/10000', 'Exif.GPSInfo.GPSAltitudeRef': '0', 'Exif.GPSInfo.GPSAltitude': '108018/1000', 'Exif.GPSInfo.GPSStatus': 'A', 'Exif.GPSInfo.GPSMapDatum': 'WGS-84', 'Exif.Image.XPComment': '0.9.142\\x00\\x00\\x00\\x00\\x00\\x00\\x00\\x00\\x00\\x00\\x00\\x00\\x00\\x00\\x00\\x00\\x00\\x00\\x00\\x00\\x00\\x00\\x00\\x00\\x00\\x00\\x00\\x00\\x00\\x00\\x00\\x00\\x00\\x00\\x00\\x00\\x00\\x00\\x00\\x00\\x00\\x00\\x00\\x00\\x00\\x00\\x00\\x00\\x00\\x00\\x00\\x00\\x00\\x00\\x00\\x00\\x00', 'Exif.Image.XPKeywords': 'single', 'Exif.Thumbnail.Compression': '7', 'Exif.Thumbnail.XResolution': '72/1', 'Exif.Thumbnail.YResolution': '72/1', 'Exif.Thumbnail.ResolutionUnit': '2', 'Exif.Thumbnail.JPEGInterchangeFormat': '1166', 'Exif.Thumbnail.JPEGInterchangeFormatLength': '10313'}\n"
     ]
    }
   ],
   "source": [
    "from pyexiv2 import Image\n",
    "import os\n",
    "\n",
    "def exifrw(exif_path):\n",
    "        exif_file = os.path.join(exif_path)\n",
    "        imge = Image(exif_file)\n",
    "        exif = imge.read_exif()\n",
    "        print(exif)\n",
    "exif_path = r\"../unTreatedImg/DJI_0002_R.JPG\"\n",
    "exifrw(exif_path)"
   ]
  },
  {
   "cell_type": "code",
   "execution_count": 6,
   "metadata": {},
   "outputs": [
    {
     "name": "stdout",
     "output_type": "stream",
     "text": [
      "1\n"
     ]
    }
   ],
   "source": [
    "from PIL import Image as Image_PIL\n",
    "def exifread_PIL(exif_path):\n",
    "    img = Image_PIL.open(exif_path)\n",
    "    info = img._getexif()\n",
    "    print(1)\n",
    "exifread_PIL(exif_path)"
   ]
  },
  {
   "cell_type": "code",
   "execution_count": 10,
   "metadata": {},
   "outputs": [
    {
     "name": "stdout",
     "output_type": "stream",
     "text": [
      "['Exif.Image.ImageDescription', 'Exif.Image.Make', 'Exif.Image.Model', 'Exif.Image.Orientation', 'Exif.Image.XResolution', 'Exif.Image.YResolution', 'Exif.Image.ResolutionUnit', 'Exif.Image.Software', 'Exif.Image.DateTime', 'Exif.Image.YCbCrPositioning', 'Exif.Image.ExifTag', 'Exif.Photo.FNumber', 'Exif.Photo.ExifVersion', 'Exif.Photo.DateTimeOriginal', 'Exif.Photo.DateTimeDigitized', 'Exif.Photo.ComponentsConfiguration', 'Exif.Photo.ApertureValue', 'Exif.Photo.MaxApertureValue', 'Exif.Photo.Flash', 'Exif.Photo.FocalLength', 'Exif.Photo.MakerNote', 'Exif.Photo.FlashpixVersion', 'Exif.Photo.ColorSpace', 'Exif.Photo.PixelXDimension', 'Exif.Photo.PixelYDimension', 'Exif.Photo.InteroperabilityTag', 'Exif.Iop.InteroperabilityIndex', 'Exif.Iop.InteroperabilityVersion', 'Exif.Photo.FileSource', 'Exif.Photo.SceneType', 'Exif.Photo.DigitalZoomRatio', 'Exif.Photo.FocalLengthIn35mmFilm', 'Exif.Photo.Contrast', 'Exif.Photo.Saturation', 'Exif.Photo.Sharpness', 'Exif.Photo.DeviceSettingDescription', 'Exif.Photo.BodySerialNumber', 'Exif.Photo.LensSpecification', 'Exif.Image.GPSTag', 'Exif.GPSInfo.GPSVersionID', 'Exif.GPSInfo.GPSLatitudeRef', 'Exif.GPSInfo.GPSLatitude', 'Exif.GPSInfo.GPSLongitudeRef', 'Exif.GPSInfo.GPSLongitude', 'Exif.GPSInfo.GPSAltitudeRef', 'Exif.GPSInfo.GPSAltitude', 'Exif.GPSInfo.GPSStatus', 'Exif.GPSInfo.GPSMapDatum', 'Exif.Image.XPComment', 'Exif.Image.XPKeywords', 'Exif.Thumbnail.Compression', 'Exif.Thumbnail.XResolution', 'Exif.Thumbnail.YResolution', 'Exif.Thumbnail.ResolutionUnit', 'Exif.Thumbnail.JPEGInterchangeFormat', 'Exif.Thumbnail.JPEGInterchangeFormatLength']\n"
     ]
    }
   ],
   "source": [
    "dict1 ={'Exif.Image.ImageDescription': 'default', 'Exif.Image.Make': 'DJI', 'Exif.Image.Model': 'ZH20T', 'Exif.Image.Orientation': '1', 'Exif.Image.XResolution': '72/1', 'Exif.Image.YResolution': '72/1', 'Exif.Image.ResolutionUnit': '2', 'Exif.Image.Software': '04.01.03.00', 'Exif.Image.DateTime': '2022:12:20 15:31:43', 'Exif.Image.YCbCrPositioning': '1', 'Exif.Image.ExifTag': '260', 'Exif.Photo.FNumber': '100/100', 'Exif.Photo.ExifVersion': '48 50 51 48', 'Exif.Photo.DateTimeOriginal': '2022:12:20 15:31:43', 'Exif.Photo.DateTimeDigitized': '2022:12:20 15:31:43', 'Exif.Photo.ComponentsConfiguration': '1 2 3 0', 'Exif.Photo.ApertureValue': '0/100', 'Exif.Photo.MaxApertureValue': '0/100', 'Exif.Photo.Flash': '0', 'Exif.Photo.FocalLength': '13500/1000', 'Exif.Photo.MakerNote': '91 115 101 110 115 111 114 95 105 100 58 49 87 57 68 75 52 77 48 48 49 50 49 86 50 0 0 0 0 0 0 0 0 0 0 0 0 0 0 0 0 0 0 93', 'Exif.Photo.FlashpixVersion': '48 49 48 48', 'Exif.Photo.ColorSpace': '1', 'Exif.Photo.PixelXDimension': '640', 'Exif.Photo.PixelYDimension': '512', 'Exif.Photo.InteroperabilityTag': '680', 'Exif.Iop.InteroperabilityIndex': 'R98', 'Exif.Iop.InteroperabilityVersion': '48 49 48 48', 'Exif.Photo.FileSource': '3', 'Exif.Photo.SceneType': '1', 'Exif.Photo.DigitalZoomRatio': '100/100', 'Exif.Photo.FocalLengthIn35mmFilm': '58', 'Exif.Photo.Contrast': '0', 'Exif.Photo.Saturation': '0', 'Exif.Photo.Sharpness': '0', 'Exif.Photo.DeviceSettingDescription': '0 0 0 0', 'Exif.Photo.BodySerialNumber': '1W9DK4M00121V2', 'Exif.Photo.LensSpecification': '13500/1000 13500/1000 100/100 100/100', 'Exif.Image.GPSTag': '566', 'Exif.GPSInfo.GPSVersionID': '2 3 0 0', 'Exif.GPSInfo.GPSLatitudeRef': 'N', 'Exif.GPSInfo.GPSLatitude': '30/1 46/1 43438/10000', 'Exif.GPSInfo.GPSLongitudeRef': 'E', 'Exif.GPSInfo.GPSLongitude': '120/1 14/1 291169/10000', 'Exif.GPSInfo.GPSAltitudeRef': '0', 'Exif.GPSInfo.GPSAltitude': '108018/1000', 'Exif.GPSInfo.GPSStatus': 'A', 'Exif.GPSInfo.GPSMapDatum': 'WGS-84', 'Exif.Image.XPComment': '0.9.142\\x00\\x00\\x00\\x00\\x00\\x00\\x00\\x00\\x00\\x00\\x00\\x00\\x00\\x00\\x00\\x00\\x00\\x00\\x00\\x00\\x00\\x00\\x00\\x00\\x00\\x00\\x00\\x00\\x00\\x00\\x00\\x00\\x00\\x00\\x00\\x00\\x00\\x00\\x00\\x00\\x00\\x00\\x00\\x00\\x00\\x00\\x00\\x00\\x00\\x00\\x00\\x00\\x00\\x00\\x00\\x00\\x00', 'Exif.Image.XPKeywords': 'single', 'Exif.Thumbnail.Compression': '7', 'Exif.Thumbnail.XResolution': '72/1', 'Exif.Thumbnail.YResolution': '72/1', 'Exif.Thumbnail.ResolutionUnit': '2', 'Exif.Thumbnail.JPEGInterchangeFormat': '1166', 'Exif.Thumbnail.JPEGInterchangeFormatLength': '10313'} \n",
    "li = []\n",
    "for k,v in dict1.items():\n",
    "    li.append(k)\n",
    "print(li)"
   ]
  }
 ],
 "metadata": {
  "kernelspec": {
   "display_name": "torch_yolov3",
   "language": "python",
   "name": "python3"
  },
  "language_info": {
   "codemirror_mode": {
    "name": "ipython",
    "version": 3
   },
   "file_extension": ".py",
   "mimetype": "text/x-python",
   "name": "python",
   "nbconvert_exporter": "python",
   "pygments_lexer": "ipython3",
   "version": "3.7.12 | packaged by conda-forge | (default, Oct 26 2021, 05:37:49) [MSC v.1916 64 bit (AMD64)]"
  },
  "orig_nbformat": 4,
  "vscode": {
   "interpreter": {
    "hash": "58780677d664e0736280991906ca2ac0508806d69e541029247ece0fc1146e6e"
   }
  }
 },
 "nbformat": 4,
 "nbformat_minor": 2
}
