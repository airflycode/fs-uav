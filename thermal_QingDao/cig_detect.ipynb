{
 "cells": [
  {
   "cell_type": "code",
   "execution_count": null,
   "metadata": {},
   "outputs": [
    {
     "ename": "",
     "evalue": "",
     "output_type": "error",
     "traceback": [
      "\u001b[1;31m无法启动 Jupyter。尝试查找 Jupyter 时出错: 运行具有“uav-py”的单元格需要jupyter 与 notebook包。\n",
      "\u001b[1;31mRun the following command to install 'jupyter 与 notebook' into the Python environment. \n",
      "\u001b[1;31mCommand: 'python -m pip install jupyter notebook -U\n",
      "\u001b[1;31mor\n",
      "\u001b[1;31mconda install jupyter notebook -U'\n",
      "\u001b[1;31m有关详细信息，请单击 <a href=\"https://aka.ms/installJupyterForVSCode\">此处</a>。"
     ]
    }
   ],
   "source": [
    "import traceback\n",
    "from TSDKreadTemp import TSDK_TemProcess\n",
    "\n",
    "imgName = \"./img_test/DJI_20230326105046_0001_T.JPG\"\n",
    "name = imgName[:-4]\n",
    "try:\n",
    "    tsdkT = TSDK_TemProcess(imgName,name,distance=30.0,emissivity=0.95,humidity=22,reflection=51.8,tsdkpath=\"../DJI_TSDK_H20T/DJI_TSDK_linux/utility/bin/linux/release_x64/dji_irp\", savePath = \"./img_treated\",imgPath = \"./img_untreated\")\n",
    "except Exception as e:\n",
    "    traceback.print_exc()\n",
    "print(tsdkT.thermal_np)\n",
    "    \n"
   ]
  }
 ],
 "metadata": {
  "kernelspec": {
   "display_name": "uav-py",
   "language": "python",
   "name": "python3"
  },
  "language_info": {
   "name": "python",
   "version": "3.7.13"
  },
  "orig_nbformat": 4
 },
 "nbformat": 4,
 "nbformat_minor": 2
}
